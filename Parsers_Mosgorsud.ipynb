{
 "cells": [
  {
   "cell_type": "code",
   "execution_count": 2,
   "metadata": {},
   "outputs": [],
   "source": [
    "import requests\n",
    "from bs4 import BeautifulSoup\n",
    "import pandas as pd\n",
    "from math import ceil\n",
    "import time\n",
    "import os\n",
    "import win32com.client\n",
    "\n",
    "headers = {\n",
    "    'user-agent': 'Mozilla/5.0 (Macintosh; Intel Mac OS X 10_14_5) AppleWebKit/537.36 (KHTML, like Gecko) Chrome/88.0.4324.41 YaBrowser/21.2.0.2458 Yowser/2.5 Safari/537.36'\n",
    "}"
   ]
  },
  {
   "cell_type": "markdown",
   "metadata": {},
   "source": [
    "#### Этап 1. Собираем ссылки на дела"
   ]
  },
  {
   "cell_type": "code",
   "execution_count": 3,
   "metadata": {},
   "outputs": [],
   "source": [
    "def get_n_pages_MGS(article, year):\n",
    "    article = str(article)\n",
    "    if ', ' in article:\n",
    "        article = article.replace(', ', '%2C+')\n",
    "    first_page_url = f'https://mos-gorsud.ru/search?formType=fullForm&courtAlias=&uid=&instance=1&processType=6&letterNumber=&caseNumber=&participant=&codex={article}&judge=&publishingState=&documentType=ab1da71&documentText=&year={year}&caseDateFrom=&caseDateTo=&caseFinalDateFrom=&caseFinalDateTo=&caseLegalForceDateFrom=&caseLegalForceDateTo=&docsDateFrom=&docsDateTo=&documentStatus=2&page=1'\n",
    "    global headers\n",
    "    response = requests.get(first_page_url, headers=headers)\n",
    "    soup = BeautifulSoup(response.text)\n",
    "    try:\n",
    "        n_cases = int(soup.find('div', {'class':'resultsearch_text'}).get_text().strip().split('\\n')[0].split(': ')[1])\n",
    "    except:\n",
    "        n_cases = 0\n",
    "    n_pages = ceil(n_cases/15)\n",
    "    return n_pages"
   ]
  },
  {
   "cell_type": "code",
   "execution_count": 4,
   "metadata": {},
   "outputs": [],
   "source": [
    "def build_url(article, year, page=1):\n",
    "    article = str(article)\n",
    "    if ', ' in article:\n",
    "        article = article.replace(', ', '%2C+')\n",
    "    url = f'https://mos-gorsud.ru/search?formType=fullForm&courtAlias=&uid=&instance=1&processType=6&letterNumber=&caseNumber=&participant=&codex={article}&judge=&publishingState=&documentType=ab1da71&documentText=&year={year}&caseDateFrom=&caseDateTo=&caseFinalDateFrom=&caseFinalDateTo=&caseLegalForceDateFrom=&caseLegalForceDateTo=&docsDateFrom=&docsDateTo=&documentStatus=2&page={page}'\n",
    "    return url"
   ]
  },
  {
   "cell_type": "code",
   "execution_count": 5,
   "metadata": {},
   "outputs": [],
   "source": [
    "def parse_one_page_MGS(url):\n",
    "    global headers\n",
    "    response = requests.get(url, headers=headers)\n",
    "    table = pd.read_html(response.text)[0]\n",
    "    soup = BeautifulSoup(response.text)\n",
    "    nobrs = [tag for tag in soup.find('tbody').find_all('nobr') if tag.find('a') is not None]\n",
    "    urls = ['https://mos-gorsud.ru' + tag.a.get('href').split('?')[0] for tag in nobrs]\n",
    "    table['URL'] = urls\n",
    "    return table"
   ]
  },
  {
   "cell_type": "code",
   "execution_count": 6,
   "metadata": {},
   "outputs": [
    {
     "name": "stdout",
     "output_type": "stream",
     "text": [
      "Статья 105, год 2018, страница 1/13\n",
      "Статья 105, год 2018, страница 2/13\n",
      "Статья 105, год 2018, страница 3/13\n",
      "Статья 105, год 2018, страница 4/13\n",
      "Статья 105, год 2018, страница 5/13\n",
      "Статья 105, год 2018, страница 6/13\n",
      "Статья 105, год 2018, страница 7/13\n",
      "Статья 105, год 2018, страница 8/13\n",
      "Статья 105, год 2018, страница 9/13\n",
      "Статья 105, год 2018, страница 10/13\n",
      "Статья 105, год 2018, страница 11/13\n",
      "Статья 105, год 2018, страница 12/13\n",
      "Статья 105, год 2018, страница 13/13\n",
      "Статья 107, год 2018, страница 1/1\n",
      "Статья 111, ч.4, год 2018, страница 1/6\n",
      "Статья 111, ч.4, год 2018, страница 2/6\n",
      "Статья 111, ч.4, год 2018, страница 3/6\n",
      "Статья 111, ч.4, год 2018, страница 4/6\n",
      "Статья 111, ч.4, год 2018, страница 5/6\n",
      "Статья 111, ч.4, год 2018, страница 6/6\n"
     ]
    },
    {
     "data": {
      "text/html": [
       "<div>\n",
       "<style scoped>\n",
       "    .dataframe tbody tr th:only-of-type {\n",
       "        vertical-align: middle;\n",
       "    }\n",
       "\n",
       "    .dataframe tbody tr th {\n",
       "        vertical-align: top;\n",
       "    }\n",
       "\n",
       "    .dataframe thead th {\n",
       "        text-align: right;\n",
       "    }\n",
       "</style>\n",
       "<table border=\"1\" class=\"dataframe\">\n",
       "  <thead>\n",
       "    <tr style=\"text-align: right;\">\n",
       "      <th></th>\n",
       "      <th>Номер дела ~ материала</th>\n",
       "      <th>Стороны</th>\n",
       "      <th>Текущее состояние</th>\n",
       "      <th>Судья</th>\n",
       "      <th>Статья</th>\n",
       "      <th>Категория дела</th>\n",
       "      <th>Список дел</th>\n",
       "      <th>URL</th>\n",
       "    </tr>\n",
       "  </thead>\n",
       "  <tbody>\n",
       "    <tr>\n",
       "      <th>0</th>\n",
       "      <td>01-0830/2018</td>\n",
       "      <td>Подсудимый: Коловертов А.В.  (Ст. 105, Ч. 1;)</td>\n",
       "      <td>Вступило в силу, 17.04.2019</td>\n",
       "      <td>Филатов А.Ю.</td>\n",
       "      <td>NaN</td>\n",
       "      <td>NaN</td>\n",
       "      <td>Уголовные дела первой инстанции (Нагатинский р...</td>\n",
       "      <td>https://mos-gorsud.ru/rs/nagatinskij/services/...</td>\n",
       "    </tr>\n",
       "    <tr>\n",
       "      <th>1</th>\n",
       "      <td>01-0808/2018</td>\n",
       "      <td>Подсудимый: Жаров О.В.  (Ст. 105, Ч. 1;)</td>\n",
       "      <td>Вступило в силу, 10.01.2019</td>\n",
       "      <td>Кузнецов В.С.</td>\n",
       "      <td>NaN</td>\n",
       "      <td>NaN</td>\n",
       "      <td>Уголовные дела первой инстанции (Люблинский ра...</td>\n",
       "      <td>https://mos-gorsud.ru/rs/lyublinskij/services/...</td>\n",
       "    </tr>\n",
       "    <tr>\n",
       "      <th>2</th>\n",
       "      <td>01-0804/2018</td>\n",
       "      <td>Подсудимый: Яровенко С.А.  (Ст. 105, Ч. 1;)</td>\n",
       "      <td>Вступило в силу, 20.02.2019</td>\n",
       "      <td>Крутовская Л.А.</td>\n",
       "      <td>NaN</td>\n",
       "      <td>NaN</td>\n",
       "      <td>Уголовные дела первой инстанции (Нагатинский р...</td>\n",
       "      <td>https://mos-gorsud.ru/rs/nagatinskij/services/...</td>\n",
       "    </tr>\n",
       "    <tr>\n",
       "      <th>3</th>\n",
       "      <td>01-0796/2018</td>\n",
       "      <td>Подсудимый: Васильев Н.Б.  (Ст. 105, Ч. 1;)</td>\n",
       "      <td>Вступило в силу, 23.10.2018</td>\n",
       "      <td>Борисенкова Н.В.</td>\n",
       "      <td>NaN</td>\n",
       "      <td>NaN</td>\n",
       "      <td>Уголовные дела первой инстанции (Нагатинский р...</td>\n",
       "      <td>https://mos-gorsud.ru/rs/nagatinskij/services/...</td>\n",
       "    </tr>\n",
       "    <tr>\n",
       "      <th>4</th>\n",
       "      <td>01-0731/2018</td>\n",
       "      <td>Подсудимый: Герасимова Е.А.  (Ст. 105, Ч. 1;)</td>\n",
       "      <td>Вступило в силу, 25.02.2019</td>\n",
       "      <td>Филатов А.Ю.</td>\n",
       "      <td>NaN</td>\n",
       "      <td>NaN</td>\n",
       "      <td>Уголовные дела первой инстанции (Нагатинский р...</td>\n",
       "      <td>https://mos-gorsud.ru/rs/nagatinskij/services/...</td>\n",
       "    </tr>\n",
       "  </tbody>\n",
       "</table>\n",
       "</div>"
      ],
      "text/plain": [
       "  Номер дела ~ материала                                        Стороны  \\\n",
       "0           01-0830/2018  Подсудимый: Коловертов А.В.  (Ст. 105, Ч. 1;)   \n",
       "1           01-0808/2018       Подсудимый: Жаров О.В.  (Ст. 105, Ч. 1;)   \n",
       "2           01-0804/2018    Подсудимый: Яровенко С.А.  (Ст. 105, Ч. 1;)   \n",
       "3           01-0796/2018    Подсудимый: Васильев Н.Б.  (Ст. 105, Ч. 1;)   \n",
       "4           01-0731/2018  Подсудимый: Герасимова Е.А.  (Ст. 105, Ч. 1;)   \n",
       "\n",
       "             Текущее состояние             Судья  Статья  Категория дела  \\\n",
       "0  Вступило в силу, 17.04.2019      Филатов А.Ю.     NaN             NaN   \n",
       "1  Вступило в силу, 10.01.2019     Кузнецов В.С.     NaN             NaN   \n",
       "2  Вступило в силу, 20.02.2019   Крутовская Л.А.     NaN             NaN   \n",
       "3  Вступило в силу, 23.10.2018  Борисенкова Н.В.     NaN             NaN   \n",
       "4  Вступило в силу, 25.02.2019      Филатов А.Ю.     NaN             NaN   \n",
       "\n",
       "                                          Список дел  \\\n",
       "0  Уголовные дела первой инстанции (Нагатинский р...   \n",
       "1  Уголовные дела первой инстанции (Люблинский ра...   \n",
       "2  Уголовные дела первой инстанции (Нагатинский р...   \n",
       "3  Уголовные дела первой инстанции (Нагатинский р...   \n",
       "4  Уголовные дела первой инстанции (Нагатинский р...   \n",
       "\n",
       "                                                 URL  \n",
       "0  https://mos-gorsud.ru/rs/nagatinskij/services/...  \n",
       "1  https://mos-gorsud.ru/rs/lyublinskij/services/...  \n",
       "2  https://mos-gorsud.ru/rs/nagatinskij/services/...  \n",
       "3  https://mos-gorsud.ru/rs/nagatinskij/services/...  \n",
       "4  https://mos-gorsud.ru/rs/nagatinskij/services/...  "
      ]
     },
     "execution_count": 6,
     "metadata": {},
     "output_type": "execute_result"
    }
   ],
   "source": [
    "articles = ['105', '107', '111, ч.4']\n",
    "year = 2018\n",
    "results = pd.DataFrame()\n",
    "\n",
    "for article in articles:\n",
    "    n_pages = get_n_pages_MGS(article, year)\n",
    "    \n",
    "    for page in range(1, n_pages+1):\n",
    "        print(f'Статья {article}, год {year}, страница {page}/{n_pages}')\n",
    "        url = build_url(article, year, page)\n",
    "        page_results = parse_one_page_MGS(url)\n",
    "        results = pd.concat([results, page_results])\n",
    "results = results.reset_index(drop=True)\n",
    "results.head()"
   ]
  },
  {
   "cell_type": "markdown",
   "metadata": {},
   "source": [
    "#### Этап 2. Добавляем ссылки на тексты приговоров"
   ]
  },
  {
   "cell_type": "code",
   "execution_count": 7,
   "metadata": {},
   "outputs": [],
   "source": [
    "def get_verdict_url(case_url):\n",
    "    global headers\n",
    "    case_url += '#tabs-3'\n",
    "    response = requests.get(case_url, headers=headers)\n",
    "    soup = BeautifulSoup(response.text)\n",
    "    tags_with_files = [tag for tag in soup.find_all('tbody')[-1].find_all('tr') if tag.find('a') is not None]\n",
    "    verdict_file = [tag.a.get('href') for tag in tags_with_files if 'Приговор' in tag.text][0]\n",
    "    verdict_file = 'https://mos-gorsud.ru' + verdict_file\n",
    "    return verdict_file"
   ]
  },
  {
   "cell_type": "code",
   "execution_count": 9,
   "metadata": {},
   "outputs": [],
   "source": [
    "n = len(results)\n",
    "for i in results.index:\n",
    "    if i==0 or (i+1)%25==0:\n",
    "        #print(f'{i+1}/{n}')\n",
    "    case_url = results.loc[i, 'URL']\n",
    "    try:\n",
    "        results.loc[i, 'URL_verdict'] = get_verdict_url(case_url)\n",
    "    except:\n",
    "        results.loc[i, 'URL_verdict'] = None\n",
    "    time.sleep(0.3)"
   ]
  },
  {
   "cell_type": "code",
   "execution_count": 8,
   "metadata": {},
   "outputs": [],
   "source": [
    "results.to_excel(f'MOSGORSUD_urls_{year}.xlsx')"
   ]
  },
  {
   "cell_type": "markdown",
   "metadata": {},
   "source": [
    "#### Этап 3. Добавляем тексты приговоров"
   ]
  },
  {
   "cell_type": "code",
   "execution_count": 10,
   "metadata": {},
   "outputs": [],
   "source": [
    "year = 2018\n",
    "results = pd.read_excel(f'MOSGORSUD_urls_{year}.xlsx', index_col=0)\n",
    "results['custom_id'] = results['URL'].apply(lambda x: x.split('/')[-1])"
   ]
  },
  {
   "cell_type": "code",
   "execution_count": 11,
   "metadata": {},
   "outputs": [],
   "source": [
    "def get_text_by_url_MGS(url, verdict_id, folder='MOSGORSUD_CASES'):\n",
    "    global headers\n",
    "    filename = f'{verdict_id}.doc'\n",
    "    if folder not in os.listdir():\n",
    "        os.mkdir(folder)\n",
    "    if filename not in os.listdir(folder):    \n",
    "        response = requests.get(url, headers=headers)\n",
    "        with open(folder + \"\\\\\" + filename, 'wb') as file:\n",
    "            file.write(response.content)\n",
    "    word = win32com.client.Dispatch(\"Word.Application\")\n",
    "    word.visible = False\n",
    "    wb = word.Documents.Open(os.getcwd() + \"\\\\\" + folder + \"\\\\\" + filename)\n",
    "    doc = word.ActiveDocument\n",
    "    text = doc.Range().Text\n",
    "    return text"
   ]
  },
  {
   "cell_type": "code",
   "execution_count": 11,
   "metadata": {},
   "outputs": [],
   "source": [
    "for i in results.index:\n",
    "    if i==0 or i%25==0:\n",
    "        #print(f'{i+1}/{len(results)}')\n",
    "    verdict_url = results.loc[i, 'URL_verdict']\n",
    "    verdict_id = results.loc[i, 'custom_id']\n",
    "    results.loc[i, 'text'] = get_text_by_url_MGS(verdict_url, verdict_id)"
   ]
  },
  {
   "cell_type": "code",
   "execution_count": 14,
   "metadata": {},
   "outputs": [],
   "source": [
    "results['text'] = results['text'].str.replace('\\r', ' ')\n",
    "results.to_excel(f'MOSGORSUD_texts_{year}.xlsx')"
   ]
  }
 ],
 "metadata": {
  "kernelspec": {
   "display_name": "Python 3",
   "language": "python",
   "name": "python3"
  },
  "language_info": {
   "codemirror_mode": {
    "name": "ipython",
    "version": 3
   },
   "file_extension": ".py",
   "mimetype": "text/x-python",
   "name": "python",
   "nbconvert_exporter": "python",
   "pygments_lexer": "ipython3",
   "version": "3.7.4"
  }
 },
 "nbformat": 4,
 "nbformat_minor": 2
}
