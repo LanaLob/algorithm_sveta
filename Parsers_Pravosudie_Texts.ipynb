{
 "cells": [
  {
   "cell_type": "code",
   "execution_count": 1,
   "metadata": {},
   "outputs": [],
   "source": [
    "from bs4 import BeautifulSoup\n",
    "import pandas as pd\n",
    "import requests\n",
    "import re\n",
    "import json\n",
    "import time\n",
    "import os\n",
    "\n",
    "import warnings\n",
    "warnings.filterwarnings('ignore')"
   ]
  },
  {
   "cell_type": "code",
   "execution_count": 2,
   "metadata": {},
   "outputs": [],
   "source": [
    "def get_text_by_case_id(case_id):\n",
    "    data = json.dumps({\"request\":{\"start\":10,\"rows\":10,\"uid\":\"1fe4a009-f990-4374-a975-4feaa469b09c\",\"groups\":[\"Уголовные дела\"],\"sorts\":[{\"field\":\"case_common_doc_entry_date\",\"order\":\"desc\"}],\"type\":\"MULTIQUERY\",\"multiqueryRequest\":{\"queryRequests\":[{\"type\":\"Q\",\"request\":\"{\\\"mode\\\":\\\"EXTENDED\\\",\\\"typeRequests\\\":[{\\\"fieldRequests\\\":[{\\\"name\\\":\\\"u_case_user_article\\\",\\\"operator\\\":\\\"EX\\\",\\\"query\\\":\\\"Статья 105\\\",\\\"sQuery\\\":null},{\\\"name\\\":\\\"u_case_user_article\\\",\\\"operator\\\":\\\"EX\\\",\\\"query\\\":\\\"Статья 105  Часть 1\\\",\\\"sQuery\\\":null},{\\\"name\\\":\\\"u_case_user_article\\\",\\\"operator\\\":\\\"EX\\\",\\\"query\\\":\\\"Статья 105  Часть 2\\\",\\\"sQuery\\\":null},{\\\"name\\\":\\\"u_case_user_article\\\",\\\"operator\\\":\\\"EX\\\",\\\"query\\\":\\\"Статья 105  Часть 2 п. а\\\",\\\"sQuery\\\":null},{\\\"name\\\":\\\"u_case_user_article\\\",\\\"operator\\\":\\\"EX\\\",\\\"query\\\":\\\"Статья 105  Часть 2 п. б\\\",\\\"sQuery\\\":null},{\\\"name\\\":\\\"u_case_user_article\\\",\\\"operator\\\":\\\"EX\\\",\\\"query\\\":\\\"Статья 105  Часть 2 п. в\\\",\\\"sQuery\\\":null},{\\\"name\\\":\\\"u_case_user_article\\\",\\\"operator\\\":\\\"EX\\\",\\\"query\\\":\\\"Статья 105  Часть 2 п. г\\\",\\\"sQuery\\\":null},{\\\"name\\\":\\\"u_case_user_article\\\",\\\"operator\\\":\\\"EX\\\",\\\"query\\\":\\\"Статья 105  Часть 2 п. д\\\",\\\"sQuery\\\":null},{\\\"name\\\":\\\"u_case_user_article\\\",\\\"operator\\\":\\\"EX\\\",\\\"query\\\":\\\"Статья 105  Часть 2 п. е\\\",\\\"sQuery\\\":null},{\\\"name\\\":\\\"u_case_user_article\\\",\\\"operator\\\":\\\"EX\\\",\\\"query\\\":\\\"Статья 105  Часть 2 п. е1\\\",\\\"sQuery\\\":null},{\\\"name\\\":\\\"u_case_user_article\\\",\\\"operator\\\":\\\"EX\\\",\\\"query\\\":\\\"Статья 105  Часть 2 п. ж\\\",\\\"sQuery\\\":null},{\\\"name\\\":\\\"u_case_user_article\\\",\\\"operator\\\":\\\"EX\\\",\\\"query\\\":\\\"Статья 105  Часть 2 п. з\\\",\\\"sQuery\\\":null},{\\\"name\\\":\\\"u_case_user_article\\\",\\\"operator\\\":\\\"EX\\\",\\\"query\\\":\\\"Статья 105  Часть 2 п. и\\\",\\\"sQuery\\\":null},{\\\"name\\\":\\\"u_case_user_article\\\",\\\"operator\\\":\\\"EX\\\",\\\"query\\\":\\\"Статья 105  Часть 2 п. к\\\",\\\"sQuery\\\":null},{\\\"name\\\":\\\"u_case_user_article\\\",\\\"operator\\\":\\\"EX\\\",\\\"query\\\":\\\"Статья 105  Часть 2 п. л\\\",\\\"sQuery\\\":null},{\\\"name\\\":\\\"u_case_user_article\\\",\\\"operator\\\":\\\"EX\\\",\\\"query\\\":\\\"Статья 105  Часть 2 п. м\\\",\\\"sQuery\\\":null},{\\\"name\\\":\\\"u_case_user_article\\\",\\\"operator\\\":\\\"EX\\\",\\\"query\\\":\\\"Статья 105  Часть 2  п. н\\\",\\\"sQuery\\\":null},{\\\"name\\\":\\\"u_case_user_article\\\",\\\"operator\\\":\\\"EX\\\",\\\"query\\\":\\\"Статья 107\\\",\\\"sQuery\\\":null},{\\\"name\\\":\\\"u_case_user_article\\\",\\\"operator\\\":\\\"EX\\\",\\\"query\\\":\\\"Статья 107  Часть 1\\\",\\\"sQuery\\\":null},{\\\"name\\\":\\\"u_case_user_article\\\",\\\"operator\\\":\\\"EX\\\",\\\"query\\\":\\\"Статья 107  Часть 2\\\",\\\"sQuery\\\":null},{\\\"name\\\":\\\"u_case_user_article\\\",\\\"operator\\\":\\\"EX\\\",\\\"query\\\":\\\"Статья 111\\\",\\\"sQuery\\\":null},{\\\"name\\\":\\\"u_case_user_article\\\",\\\"operator\\\":\\\"EX\\\",\\\"query\\\":\\\"Статья 111  Часть 4\\\",\\\"sQuery\\\":null}],\\\"mode\\\":\\\"AND\\\",\\\"name\\\":\\\"Уголовные дела\\\",\\\"typesMode\\\":\\\"AND\\\"}]}\",\"operator\":\"AND\",\"queryRequestRole\":\"CATEGORIES\"},{\"type\":\"Q\",\"request\":\"{\\\"mode\\\":\\\"EXTENDED\\\",\\\"typeRequests\\\":[{\\\"name\\\":\\\"common\\\",\\\"mode\\\":\\\"AND\\\",\\\"typesMode\\\":\\\"AND\\\",\\\"fieldRequests\\\":[{\\\"name\\\":\\\"case_user_document_num\\\",\\\"operator\\\":\\\"GE\\\",\\\"query\\\":\\\"1\\\"}]}]}\",\"operator\":\"AND\",\"queryRequestRole\":\"FACET_QUERY###case_user_document_num###Да\"},{\"type\":\"SQ\",\"queryId\":\"7f9e8ff8-4bc8-46aa-bcbd-f2b3ed5f159f\",\"operator\":\"AND\"}]},\"simpleSearchFieldsBundle\":None,\"filterGroups\":[{\"filterQueries\":[{\"field\":\"case_user_doc_entry_date\",\"query\":\"2019 год\",\"not\":False},{\"field\":\"case_user_doc_entry_date\",\"query\":\"2018 год\",\"not\":False},{\"field\":\"case_user_doc_result\",\"query\":\"Вынесен ПРИГОВОР\",\"not\":False,\"_invertedNot\":False,\"_and\":False}],\"groupMode\":\"OR\",\"not\":False}],\"facet\":{\"field\":[\"type\"]},\"facetLimit\":21,\"additionalFields\":[\"case_user_doc_number\",\"case_user_document_type\",\"u_case_user_article\",\"case_user_entry_date\",\"case_user_doc_result_date\",\"case_doc_subject_rf\",\"case_user_doc_court\",\"u_common_case_defendant_name\",\"case_user_doc_result\"],\"hlFragSize\":1000,\"groupLimit\":3,\"woBoost\":False,\"id\":case_id,\"shards\":[\"Уголовные дела\"],\"hlColors\":[\"searchHL0\"]},\"saveBoostQuery\":False,\"oneFieldName\":\"\"})\n",
    "    data = json.loads(data)\n",
    "\n",
    "    headers = {\"User-Agent\": \"Mozilla/5.0 (Windows NT 10.0; Win64; x64) AppleWebKit/537.36 (KHTML, like Gecko) Chrome/87.0.4280.141 YaBrowser/20.12.3.140 Yowser/2.5 Safari/537.36\",\n",
    "    \"X-Ajax-Token\": \"9034c90d1f3d4e72300540f837a556b749f7931c014590e67db2f6fa3fdfad30\",\n",
    "    \"X-csrftoken\": \"16631ab14f7b8ed4807de60548e27dcb1f8ab75bff3cda2b3d305a6e70d2084262289d53f7f97de9\"}\n",
    "\n",
    "\n",
    "    link = \"https://bsr.sudrf.ru/bigs/showDocument.action\"\n",
    "    response = requests.post(link, json=data, headers=headers, verify=False)\n",
    "    \n",
    "    if response.text == '':\n",
    "        data = json.dumps({\"request\":{\"start\":10,\"rows\":10,\"uid\":\"1fe4a009-f990-4374-a975-4feaa469b09c\",\"groups\":[\"Уголовные дела\"],\"sorts\":[{\"field\":\"case_common_doc_entry_date\",\"order\":\"desc\"}],\"type\":\"MULTIQUERY\",\"multiqueryRequest\":{\"queryRequests\":[{\"type\":\"Q\",\"request\":\"{\\\"mode\\\":\\\"EXTENDED\\\",\\\"typeRequests\\\":[{\\\"fieldRequests\\\":[{\\\"name\\\":\\\"u_case_user_article\\\",\\\"operator\\\":\\\"EX\\\",\\\"query\\\":\\\"Статья 105\\\",\\\"sQuery\\\":null},{\\\"name\\\":\\\"u_case_user_article\\\",\\\"operator\\\":\\\"EX\\\",\\\"query\\\":\\\"Статья 105  Часть 1\\\",\\\"sQuery\\\":null},{\\\"name\\\":\\\"u_case_user_article\\\",\\\"operator\\\":\\\"EX\\\",\\\"query\\\":\\\"Статья 105  Часть 2\\\",\\\"sQuery\\\":null},{\\\"name\\\":\\\"u_case_user_article\\\",\\\"operator\\\":\\\"EX\\\",\\\"query\\\":\\\"Статья 105  Часть 2 п. а\\\",\\\"sQuery\\\":null},{\\\"name\\\":\\\"u_case_user_article\\\",\\\"operator\\\":\\\"EX\\\",\\\"query\\\":\\\"Статья 105  Часть 2 п. б\\\",\\\"sQuery\\\":null},{\\\"name\\\":\\\"u_case_user_article\\\",\\\"operator\\\":\\\"EX\\\",\\\"query\\\":\\\"Статья 105  Часть 2 п. в\\\",\\\"sQuery\\\":null},{\\\"name\\\":\\\"u_case_user_article\\\",\\\"operator\\\":\\\"EX\\\",\\\"query\\\":\\\"Статья 105  Часть 2 п. г\\\",\\\"sQuery\\\":null},{\\\"name\\\":\\\"u_case_user_article\\\",\\\"operator\\\":\\\"EX\\\",\\\"query\\\":\\\"Статья 105  Часть 2 п. д\\\",\\\"sQuery\\\":null},{\\\"name\\\":\\\"u_case_user_article\\\",\\\"operator\\\":\\\"EX\\\",\\\"query\\\":\\\"Статья 105  Часть 2 п. е\\\",\\\"sQuery\\\":null},{\\\"name\\\":\\\"u_case_user_article\\\",\\\"operator\\\":\\\"EX\\\",\\\"query\\\":\\\"Статья 105  Часть 2 п. е1\\\",\\\"sQuery\\\":null},{\\\"name\\\":\\\"u_case_user_article\\\",\\\"operator\\\":\\\"EX\\\",\\\"query\\\":\\\"Статья 105  Часть 2 п. ж\\\",\\\"sQuery\\\":null},{\\\"name\\\":\\\"u_case_user_article\\\",\\\"operator\\\":\\\"EX\\\",\\\"query\\\":\\\"Статья 105  Часть 2 п. з\\\",\\\"sQuery\\\":null},{\\\"name\\\":\\\"u_case_user_article\\\",\\\"operator\\\":\\\"EX\\\",\\\"query\\\":\\\"Статья 105  Часть 2 п. и\\\",\\\"sQuery\\\":null},{\\\"name\\\":\\\"u_case_user_article\\\",\\\"operator\\\":\\\"EX\\\",\\\"query\\\":\\\"Статья 105  Часть 2 п. к\\\",\\\"sQuery\\\":null},{\\\"name\\\":\\\"u_case_user_article\\\",\\\"operator\\\":\\\"EX\\\",\\\"query\\\":\\\"Статья 105  Часть 2 п. л\\\",\\\"sQuery\\\":null},{\\\"name\\\":\\\"u_case_user_article\\\",\\\"operator\\\":\\\"EX\\\",\\\"query\\\":\\\"Статья 105  Часть 2 п. м\\\",\\\"sQuery\\\":null},{\\\"name\\\":\\\"u_case_user_article\\\",\\\"operator\\\":\\\"EX\\\",\\\"query\\\":\\\"Статья 105  Часть 2  п. н\\\",\\\"sQuery\\\":null},{\\\"name\\\":\\\"u_case_user_article\\\",\\\"operator\\\":\\\"EX\\\",\\\"query\\\":\\\"Статья 107\\\",\\\"sQuery\\\":null},{\\\"name\\\":\\\"u_case_user_article\\\",\\\"operator\\\":\\\"EX\\\",\\\"query\\\":\\\"Статья 107  Часть 1\\\",\\\"sQuery\\\":null},{\\\"name\\\":\\\"u_case_user_article\\\",\\\"operator\\\":\\\"EX\\\",\\\"query\\\":\\\"Статья 107  Часть 2\\\",\\\"sQuery\\\":null},{\\\"name\\\":\\\"u_case_user_article\\\",\\\"operator\\\":\\\"EX\\\",\\\"query\\\":\\\"Статья 111\\\",\\\"sQuery\\\":null},{\\\"name\\\":\\\"u_case_user_article\\\",\\\"operator\\\":\\\"EX\\\",\\\"query\\\":\\\"Статья 111  Часть 4\\\",\\\"sQuery\\\":null}],\\\"mode\\\":\\\"AND\\\",\\\"name\\\":\\\"Уголовные дела\\\",\\\"typesMode\\\":\\\"AND\\\"}]}\",\"operator\":\"AND\",\"queryRequestRole\":\"CATEGORIES\"},{\"type\":\"Q\",\"request\":\"{\\\"mode\\\":\\\"EXTENDED\\\",\\\"typeRequests\\\":[{\\\"name\\\":\\\"common\\\",\\\"mode\\\":\\\"AND\\\",\\\"typesMode\\\":\\\"AND\\\",\\\"fieldRequests\\\":[{\\\"name\\\":\\\"case_user_document_num\\\",\\\"operator\\\":\\\"GE\\\",\\\"query\\\":\\\"1\\\"}]}]}\",\"operator\":\"AND\",\"queryRequestRole\":\"FACET_QUERY###case_user_document_num###Да\"},{\"type\":\"SQ\",\"queryId\":\"7f9e8ff8-4bc8-46aa-bcbd-f2b3ed5f159f\",\"operator\":\"AND\"}]},\"simpleSearchFieldsBundle\":None,\"filterGroups\":[{\"filterQueries\":[{\"field\":\"case_user_doc_entry_date\",\"query\":\"2019 год\",\"not\":False},{\"field\":\"case_user_doc_entry_date\",\"query\":\"2018 год\",\"not\":False},{\"field\":\"case_user_doc_result\",\"query\":\"Вынесен ПРИГОВОР\",\"not\":False,\"_invertedNot\":False,\"_and\":False}],\"groupMode\":\"OR\",\"not\":False}],\"facet\":{\"field\":[\"type\"]},\"facetLimit\":21,\"additionalFields\":[\"case_user_doc_number\",\"case_user_document_type\",\"u_case_user_article\",\"case_user_entry_date\",\"case_user_doc_result_date\",\"case_doc_subject_rf\",\"case_user_doc_court\",\"u_common_case_defendant_name\",\"case_user_doc_result\"],\"hlFragSize\":1000,\"groupLimit\":3,\"woBoost\":False,\"id\":case_id,\"shards\":[\"Уголовные дела\"],\"hlColors\":[\"searchHL0\"]},\"saveBoostQuery\":False,\"oneFieldName\":\"case_user_document_text_tag\"})\n",
    "        data = json.loads(data)\n",
    "        response = requests.post(link, json=data, headers=headers, verify=False)\n",
    "\n",
    "    case_data = pd.json_normalize(response.json()['document']['fields'])\n",
    "    case_text = case_data[case_data['comment']=='Текст документа']['value'].item()\n",
    "    case_text = BeautifulSoup(case_text).text.strip()\n",
    "    return case_text"
   ]
  },
  {
   "cell_type": "code",
   "execution_count": 5,
   "metadata": {},
   "outputs": [
    {
     "data": {
      "text/plain": [
       "'ПРИГОВОР\\nИМЕНЕМ РОССИЙСКОЙ ФЕДЕРАЦИИ\\nгород Ногинск Московской области 23 июня 2014 года\\nСудья Ногинского городского суда Московской области Полежаева С.Е.,\\nс участием государственного обвинителя – помощника Ногинского городского прокурора Зубаревой И.А.,\\nподсудимого ЧИКИРЕВА С. П.,\\nзащитника - адвоката Кареева К.Г., представившего суду удостоверение и ордер,\\nпри секретаре Тетеркиной Ю.Н.,\\nа также потерпевшего ФИО 1,\\nрассмотрев в открытом судебном заседании в особом порядке уголовное дело в отношении \\nЧИКИРЕВА С. П., <данные изъяты>\\nобвиняемого в совершении преступления, предусмотренного ст. 113 УК РФ,\\nУ С Т А Н О В И Л:\\nЧикирев С.П. совершил умышленное причинение тяжкого вреда здоровью, совершенное в состоянии внезапно возникшего сильного душевного волнения (аффекта), вызванного тяжким оскорблением со стороны потерпевшего и иными аморальными действиями потерпевшего.\\nОписание преступного деяния, в совершении которого согласился подсудимый:\\n«В период времени с 12 часов 00 минут до 15 час'"
      ]
     },
     "execution_count": 5,
     "metadata": {},
     "output_type": "execute_result"
    }
   ],
   "source": [
    "# первые 1000 символов рандомного дела по совсем другой статье и периоду (113 статья, 2014 год)\n",
    "# идентификатор дела заложен в ссылке на него первым параметром\n",
    "get_text_by_case_id('d2d0f760c43f39ca5bb0d580837b8746')[:1000] "
   ]
  },
  {
   "cell_type": "markdown",
   "metadata": {},
   "source": [
    "#### Работа парсера текстов с ГАС Правосудие на примере 2018 года (по уже собранным ранее ссылкам)"
   ]
  },
  {
   "cell_type": "code",
   "execution_count": 76,
   "metadata": {},
   "outputs": [],
   "source": [
    "articles = ['105', '107', '111_4']\n",
    "year = 2018"
   ]
  },
  {
   "cell_type": "code",
   "execution_count": 81,
   "metadata": {},
   "outputs": [
    {
     "name": "stdout",
     "output_type": "stream",
     "text": [
      "0\n",
      "0\n",
      "0\n"
     ]
    }
   ],
   "source": [
    "# при возникновении ошибки со стороны ГАС перезапустите ячейку - парсер продолжит работать с текущего места\n",
    "for article in articles:\n",
    "    if f'{article}_{year}_cases_texts.xlsx' in os.listdir():\n",
    "        data = pd.read_excel(f'{article}_{year}_cases_texts.xlsx', index_col=0)\n",
    "        print(data['text'].isna().sum())\n",
    "    else:\n",
    "        data = pd.read_excel(f'{article}_{year}_cases_links.xlsx').drop('Unnamed: 0', axis=1)\n",
    "        data = data.drop_duplicates('ID').reset_index(drop=True)\n",
    "        data['text'] = None\n",
    "        \n",
    "    n = len(data)\n",
    "        \n",
    "    for i in data.index:\n",
    "        if pd.isnull(data.loc[i, 'text']):\n",
    "            case_id = data.loc[i, 'ID']\n",
    "            try:\n",
    "                case_text = get_text_by_case_id(case_id)\n",
    "                data.loc[i, 'text'] = case_text\n",
    "            except:\n",
    "                time.sleep(1)\n",
    "                continue\n",
    "            time.sleep(0.2)\n",
    "            if case_text is None:\n",
    "                time.sleep(1)\n",
    "                continue\n",
    "        else:\n",
    "            continue\n",
    "        if i%50==0 or i==n:\n",
    "            data.to_excel(f'{article}_{year}_cases_texts.xlsx')\n",
    "    data.to_excel(f'{article}_{year}_cases_texts.xlsx')"
   ]
  }
 ],
 "metadata": {
  "kernelspec": {
   "display_name": "Python 3",
   "language": "python",
   "name": "python3"
  },
  "language_info": {
   "codemirror_mode": {
    "name": "ipython",
    "version": 3
   },
   "file_extension": ".py",
   "mimetype": "text/x-python",
   "name": "python",
   "nbconvert_exporter": "python",
   "pygments_lexer": "ipython3",
   "version": "3.7.4"
  }
 },
 "nbformat": 4,
 "nbformat_minor": 2
}
